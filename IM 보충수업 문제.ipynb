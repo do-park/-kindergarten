{
 "cells": [
  {
   "cell_type": "code",
   "execution_count": null,
   "metadata": {},
   "outputs": [],
   "source": [
    "# 2941. 크로아티아 알파벳"
   ]
  },
  {
   "cell_type": "code",
   "execution_count": 1,
   "metadata": {},
   "outputs": [
    {
     "name": "stdout",
     "output_type": "stream",
     "text": [
      "c-c=dz=ljnjacd\n",
      "8\n"
     ]
    }
   ],
   "source": [
    "croatic = ['c=', 'c-', 'dz=', 'd-', 'lj', 'nj', 's=', 'z=']\n",
    "\n",
    "alpha = input()\n",
    "\n",
    "for c in croatic:\n",
    "    alpha = alpha.replace(c, 'a')\n",
    "\n",
    "print(len(alpha))"
   ]
  },
  {
   "cell_type": "code",
   "execution_count": null,
   "metadata": {},
   "outputs": [],
   "source": [
    "# 2567. 색종이 -2"
   ]
  },
  {
   "cell_type": "code",
   "execution_count": 2,
   "metadata": {},
   "outputs": [
    {
     "name": "stdout",
     "output_type": "stream",
     "text": [
      "4\n",
      "3 7\n",
      "5 2\n",
      "15 7\n",
      "13 14\n",
      "96\n"
     ]
    }
   ],
   "source": [
    "N = int(input())\n",
    "paper = [[0] * 101 for _ in range(0, 101)]\n",
    "\n",
    "for n in range(0, N):\n",
    "    A, B = map(int, input().split())\n",
    "    for a in range(0, 10):\n",
    "        for b in range(0, 10):\n",
    "            paper[B + b][A + a] = 1\n",
    "\n",
    "dy = [0, 0, 1, -1]\n",
    "dx = [1, -1, 0, 0]\n",
    "\n",
    "count = 0\n",
    "\n",
    "for j in range(1, 101):\n",
    "    for i in range(1, 101):\n",
    "        if paper[j][i] == 1:\n",
    "            for k in range(0, 4):\n",
    "                x = i + dx[k]\n",
    "                y = j + dy[k]\n",
    "                if paper[y][x] == 0:\n",
    "                    count += 1\n",
    "\n",
    "print(count)"
   ]
  },
  {
   "cell_type": "code",
   "execution_count": null,
   "metadata": {},
   "outputs": [],
   "source": [
    "# 2804. 크로스워드 만들기"
   ]
  },
  {
   "cell_type": "code",
   "execution_count": 2,
   "metadata": {},
   "outputs": [
    {
     "name": "stdout",
     "output_type": "stream",
     "text": [
      "BANANA PIDZAMA\n",
      ".P....\n",
      ".I....\n",
      ".D....\n",
      ".Z....\n",
      "BANANA\n",
      ".M....\n",
      ".A....\n"
     ]
    }
   ],
   "source": [
    "A, B = input().split()\n",
    "N = len(A)      # N 칸\n",
    "M = len(B)      # M 줄\n",
    "\n",
    "\n",
    "cross = [['.'] * N for _ in range(M)]\n",
    "\n",
    "flag = 0\n",
    "for i in range(N):\n",
    "    for j in range(M):\n",
    "        if A[i] == B[j]:\n",
    "            flag = 1\n",
    "            break\n",
    "    if flag:\n",
    "        break\n",
    "\n",
    "for x in range(0, N):\n",
    "    cross[j][x] = A[x]\n",
    "\n",
    "for y in range(0, M):\n",
    "    cross[y][i] = B[y]\n",
    "\n",
    "for i in range(0, M):\n",
    "    for j in range(0, N):\n",
    "        print(cross[i][j], end='')\n",
    "    print()"
   ]
  },
  {
   "cell_type": "code",
   "execution_count": null,
   "metadata": {},
   "outputs": [],
   "source": [
    "# 2851. 슈퍼 마리오"
   ]
  },
  {
   "cell_type": "code",
   "execution_count": 1,
   "metadata": {},
   "outputs": [
    {
     "name": "stdout",
     "output_type": "stream",
     "text": [
      "10\n",
      "20\n",
      "30\n",
      "40\n",
      "50\n",
      "60\n",
      "70\n",
      "80\n",
      "90\n",
      "100\n",
      "100\n"
     ]
    }
   ],
   "source": [
    "mario = []\n",
    "sums = []\n",
    "\n",
    "for i in range(0, 10):\n",
    "    tmp = int(input())\n",
    "    mario.append(tmp)\n",
    "\n",
    "tmp = 0\n",
    "result = 0\n",
    "for i in range(0, 10):\n",
    "    tmp += mario[i]\n",
    "    if abs(tmp - 100) < abs(result - 100):\n",
    "        result = tmp\n",
    "    if abs(tmp - 100) == abs(result - 100):\n",
    "        result = max(tmp, result)\n",
    "\n",
    "print(result)"
   ]
  },
  {
   "cell_type": "code",
   "execution_count": null,
   "metadata": {},
   "outputs": [],
   "source": [
    "# 2536. 색종이"
   ]
  },
  {
   "cell_type": "code",
   "execution_count": 1,
   "metadata": {},
   "outputs": [
    {
     "name": "stdout",
     "output_type": "stream",
     "text": [
      "3\n",
      "3 7\n",
      "15 7\n",
      "5 2\n",
      "260\n"
     ]
    }
   ],
   "source": [
    "area = [[0] * 100 for _ in range(0, 100)]\n",
    "\n",
    "T = int(input())\n",
    "\n",
    "for tc in range(T):\n",
    "    X, Y = map(int, input().split())\n",
    "    for j in range(Y, Y + 10):\n",
    "        for i in range(X, X + 10):\n",
    "            area[i][j] = 1\n",
    "            \n",
    "sum = 0\n",
    "for i in range(0, 100):\n",
    "    sum += area[i].count(1)\n",
    "\n",
    "print(sum)"
   ]
  },
  {
   "cell_type": "code",
   "execution_count": null,
   "metadata": {},
   "outputs": [],
   "source": [
    "# 1244. 스위치 켜고 끄기"
   ]
  },
  {
   "cell_type": "code",
   "execution_count": 3,
   "metadata": {},
   "outputs": [
    {
     "name": "stdout",
     "output_type": "stream",
     "text": [
      "8\n",
      "0 1 0 1 0 0 0 1\n",
      "2\n",
      "1 3\n",
      "2 3\n",
      "1 0 0 0 1 1 0 1 "
     ]
    }
   ],
   "source": [
    "def onoff(state):\n",
    "    if state:\n",
    "        return 0\n",
    "    else:\n",
    "        return 1\n",
    "\n",
    "N = int(input())\n",
    "bulbs = list(map(int, input().split()))\n",
    "M = int(input())\n",
    "\n",
    "for m in range(0, M):\n",
    "    gender, button = map(int, input().split())\n",
    "    if gender == 1:     #남학생: 자기가 받은 수의 배수 스위치 상태 조작\n",
    "        for i in range(button - 1, N, button):\n",
    "            bulbs[i] = onoff(bulbs[i])\n",
    "\n",
    "    if gender == 2:     #여학생: 자기가 받은 수 기준 좌우대칭 스위치 조작\n",
    "        bulbs[button - 1] = onoff(bulbs[button - 1])\n",
    "        for i in range(1, N // 2):\n",
    "            if (button -1) - i < 0 or (button -1) + i >= N:\n",
    "                break\n",
    "            else:\n",
    "                if bulbs[(button - 1) - i] == bulbs[(button - 1) + i]:\n",
    "                    bulbs[button - 1 - i] = onoff(bulbs[button - 1 - i])\n",
    "                    bulbs[button - 1 + i] = onoff(bulbs[button - 1 + i])\n",
    "                else:\n",
    "                    break\n",
    "\n",
    "for i in range(1, N + 1):\n",
    "    print(bulbs[i - 1], end=' ')\n",
    "    if i % 20 == 0:\n",
    "        print()"
   ]
  },
  {
   "cell_type": "code",
   "execution_count": null,
   "metadata": {},
   "outputs": [],
   "source": [
    "# 2991. 사나운 개"
   ]
  },
  {
   "cell_type": "code",
   "execution_count": 1,
   "metadata": {},
   "outputs": [
    {
     "name": "stdout",
     "output_type": "stream",
     "text": [
      "2 2 3 3\n",
      "1 3 4\n",
      "2\n",
      "1\n",
      "0\n"
     ]
    }
   ],
   "source": [
    "A, B, C, D = list(map(int, input().split()))\n",
    "visitor = list(map(int, input().split()))\n",
    "bowwow = [0, 0, 0]\n",
    "\n",
    "\n",
    "X = A + B; Y = C + D\n",
    "\n",
    "for i in range(0, 3):\n",
    "    if 0 < (visitor[i] % X) <= A:\n",
    "        bowwow[i] += 1\n",
    "    if 0 < (visitor[i] % Y) <= C:\n",
    "        bowwow[i] += 1\n",
    "\n",
    "for x in bowwow:\n",
    "    print(x)"
   ]
  },
  {
   "cell_type": "code",
   "execution_count": null,
   "metadata": {},
   "outputs": [],
   "source": [
    "# 3985. 롤 케이크"
   ]
  },
  {
   "cell_type": "code",
   "execution_count": 3,
   "metadata": {},
   "outputs": [
    {
     "name": "stdout",
     "output_type": "stream",
     "text": [
      "10\n",
      "3\n",
      "2 4\n",
      "7 8\n",
      "6 9\n",
      "3\n",
      "1\n"
     ]
    }
   ],
   "source": [
    "L = int(input())\n",
    "N = int(input())\n",
    "cake = [0] * (L + 1)\n",
    "expect = [0] * N\n",
    "people = [0] * N\n",
    "\n",
    "for n in range(0, N):\n",
    "    I, J = map(int, input().split())\n",
    "    expect[n] = J - I + 1\n",
    "    for i in range(I, J + 1):\n",
    "        if cake[i] == 0:\n",
    "            cake[i] = n + 1\n",
    "            people[n] += 1\n",
    "\n",
    "print(expect.index(max(expect)) + 1)\n",
    "print(people.index(max(people)) + 1)"
   ]
  }
 ],
 "metadata": {
  "kernelspec": {
   "display_name": "Python 3",
   "language": "python",
   "name": "python3"
  },
  "language_info": {
   "codemirror_mode": {
    "name": "ipython",
    "version": 3
   },
   "file_extension": ".py",
   "mimetype": "text/x-python",
   "name": "python",
   "nbconvert_exporter": "python",
   "pygments_lexer": "ipython3",
   "version": "3.7.3"
  }
 },
 "nbformat": 4,
 "nbformat_minor": 4
}
