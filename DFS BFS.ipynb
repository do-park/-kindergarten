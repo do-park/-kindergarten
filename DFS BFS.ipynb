{
 "cells": [
  {
   "cell_type": "code",
   "execution_count": null,
   "metadata": {},
   "outputs": [],
   "source": [
    "# 2606 바이러스"
   ]
  },
  {
   "cell_type": "code",
   "execution_count": 6,
   "metadata": {},
   "outputs": [
    {
     "name": "stdout",
     "output_type": "stream",
     "text": [
      "7\n",
      "6\n",
      "1 2\n",
      "2 3\n",
      "1 5\n",
      "5 2\n",
      "5 6\n",
      "4 7\n",
      "4\n"
     ]
    }
   ],
   "source": [
    "N = int(input())\n",
    "computer = [[0] * (N + 1) for _ in range(N + 1)]\n",
    "visited = [0] * (N + 1)\n",
    "\n",
    "M = int(input())\n",
    "for m in range(0, M):\n",
    "    A, B = map(int, input().split())\n",
    "    computer[A][B] = 1\n",
    "    computer[B][A] = 1\n",
    "\n",
    "stack = [1]\n",
    "\n",
    "while True:\n",
    "    now = stack[-1]\n",
    "    visited[now] = 1\n",
    "    stack.pop()\n",
    "    for i in range(0, N + 1):\n",
    "        if (computer[now][i] == 1) and (i not in stack) and (visited[i] == 0):\n",
    "            stack.append(i)\n",
    "\n",
    "    if not stack:\n",
    "        break\n",
    "\n",
    "print(sum(visited) - 1)"
   ]
  },
  {
   "cell_type": "code",
   "execution_count": null,
   "metadata": {},
   "outputs": [],
   "source": [
    "# 2667 단지번호붙이기"
   ]
  },
  {
   "cell_type": "code",
   "execution_count": 5,
   "metadata": {},
   "outputs": [
    {
     "name": "stdout",
     "output_type": "stream",
     "text": [
      "7\n",
      "0110100\n",
      "0110101\n",
      "1110101\n",
      "0000111\n",
      "0100000\n",
      "0111110\n",
      "0111000\n",
      "3\n",
      "7\n",
      "8\n",
      "9\n"
     ]
    }
   ],
   "source": [
    "def safe(x, y):\n",
    "    if (0 <= x < N and 0 <= y < N):\n",
    "        return True\n",
    "    else:\n",
    "        return False\n",
    "\n",
    "\n",
    "def BFS(apart, i, j, N, visited):\n",
    "    if apart[i][j] == 0:\n",
    "        visited.append([i, j])\n",
    "        return [0, visited]\n",
    "\n",
    "    block = []\n",
    "    queue = [[i, j]]\n",
    "\n",
    "    while queue:\n",
    "        [i, j] = queue.pop()\n",
    "        block.append([i, j])\n",
    "        visited.append([i, j])\n",
    "\n",
    "        if apart[i][j] == 1:\n",
    "            dy = [-1, 1, 0, 0]\n",
    "            dx = [0, 0, -1, 1]\n",
    "            for k in range(0, 4):\n",
    "                Y = dy[k] + i\n",
    "                X = dx[k] + j\n",
    "                if safe(X, Y) and apart[Y][X] == 1 and [Y, X] not in block and [Y, X] not in queue:\n",
    "                    queue.append([Y, X])\n",
    "\n",
    "    return [len(block), visited]\n",
    "\n",
    "N = int(input())\n",
    "apart = [list(map(int, input())) for _ in range(N)]\n",
    "visited = []\n",
    "result = []\n",
    "\n",
    "\n",
    "\n",
    "for i in range(0, N):\n",
    "    for j in range(0, N):\n",
    "        if [i, j] not in visited:\n",
    "            [size, visited] = BFS(apart, i, j, N, visited)\n",
    "            if size != 0:\n",
    "                result.append(size)\n",
    "\n",
    "print(len(result))\n",
    "for i in sorted(result):\n",
    "    print(i)"
   ]
  },
  {
   "cell_type": "code",
   "execution_count": null,
   "metadata": {},
   "outputs": [],
   "source": [
    "# 2589 보물섬"
   ]
  },
  {
   "cell_type": "code",
   "execution_count": 4,
   "metadata": {},
   "outputs": [
    {
     "name": "stdout",
     "output_type": "stream",
     "text": [
      "5 7\n",
      "WLLWWWL\n",
      "LLLWLLL\n",
      "LWLWLWW\n",
      "LWLWLLL\n",
      "WLLWLWW\n",
      "8\n"
     ]
    }
   ],
   "source": [
    "import collections\n",
    "\n",
    "N, M = map(int, input().split())\n",
    "island = []\n",
    "Q = collections.deque()\n",
    "for n in range(N):\n",
    "    temp = list(input())\n",
    "    for m in range(M):\n",
    "        if temp[m] == 'L':\n",
    "            Q.append([n, m])\n",
    "    island.append(temp)\n",
    "\n",
    "subQ = collections.deque()\n",
    "dy = [-1, 1, 0, 0]\n",
    "dx = [0, 0, -1, 1]\n",
    "cnt = 0\n",
    "subcnt = 0\n",
    "while Q:\n",
    "    visited = [[0] * M for _ in range(N)]\n",
    "    y, x = Q.popleft()\n",
    "    visited[y][x] = 1\n",
    "    subQ.append([y, x])\n",
    "    while subQ:\n",
    "        y, x = subQ.popleft()\n",
    "        for d in range(4):\n",
    "            Y = y + dy[d]\n",
    "            X = x + dx[d]\n",
    "            if 0 <= Y < N and 0 <= X < M and island[Y][X] == 'L' and not visited[Y][X]:\n",
    "                visited[Y][X] = visited[y][x] + 1\n",
    "                subQ.append([Y, X])\n",
    "                if subcnt < visited[Y][X]:\n",
    "                    subcnt = visited[Y][X]\n",
    "    if cnt < subcnt:\n",
    "        cnt = subcnt\n",
    "print(cnt - 1)\n"
   ]
  },
  {
   "cell_type": "code",
   "execution_count": null,
   "metadata": {},
   "outputs": [],
   "source": [
    "# 7576 토마토"
   ]
  },
  {
   "cell_type": "code",
   "execution_count": 3,
   "metadata": {},
   "outputs": [
    {
     "name": "stdout",
     "output_type": "stream",
     "text": [
      "6 4\n",
      "0 0 0 0 0 0\n",
      "0 0 0 0 0 0\n",
      "0 0 0 0 0 0\n",
      "0 0 0 0 0 1\n",
      "8\n"
     ]
    }
   ],
   "source": [
    "from collections import deque\n",
    "\n",
    "def safe(y, x):\n",
    "    if 0 <= y < N and 0 <= x < M:\n",
    "        return True\n",
    "    else:\n",
    "        return False\n",
    "\n",
    "\n",
    "M, N = map(int, input().split())\n",
    "tomato = [list(map(int, input().split())) for _ in range(N)]\n",
    "queue = deque()\n",
    "result = 1\n",
    "\n",
    "for n in range(0, N):\n",
    "    for m in range(0, M):\n",
    "        if tomato[n][m] == 1:\n",
    "            queue.append([n, m])\n",
    "\n",
    "dy = [-1, 1, 0, 0]\n",
    "dx = [0, 0, -1, 1]\n",
    "\n",
    "while queue:\n",
    "    [i, j] = queue.popleft()\n",
    "\n",
    "    for d in range(4):\n",
    "        Y = dy[d] + i\n",
    "        X = dx[d] + j\n",
    "\n",
    "        if safe(Y, X) and tomato[Y][X] == 0:\n",
    "            queue.append([Y, X])\n",
    "            tomato[Y][X] = tomato[i][j] + 1\n",
    "            if result < tomato[Y][X]:\n",
    "                result = tomato[Y][X]\n",
    "\n",
    "for t in tomato:\n",
    "    if 0 in t:\n",
    "        result = 0\n",
    "        break\n",
    "\n",
    "print(result - 1)\n"
   ]
  },
  {
   "cell_type": "code",
   "execution_count": null,
   "metadata": {},
   "outputs": [],
   "source": [
    "# 9663 N-Queenascii"
   ]
  },
  {
   "cell_type": "code",
   "execution_count": null,
   "metadata": {},
   "outputs": [],
   "source": []
  },
  {
   "cell_type": "code",
   "execution_count": null,
   "metadata": {},
   "outputs": [],
   "source": [
    "# 7569 토마토"
   ]
  },
  {
   "cell_type": "code",
   "execution_count": 2,
   "metadata": {},
   "outputs": [
    {
     "name": "stdout",
     "output_type": "stream",
     "text": [
      "5 3 1\n",
      "0 -1 0 0 0\n",
      "-1 -1 0 1 1\n",
      "0 0 0 1 1\n",
      "-1\n"
     ]
    }
   ],
   "source": [
    "import sys\n",
    "from collections import deque\n",
    "\n",
    "def safe3d(x, y, z):\n",
    "    if 0 <= x < M and 0 <= y < N and 0 <= z < H:\n",
    "        return True\n",
    "    else:\n",
    "        return False\n",
    "\n",
    "\n",
    "M, N, H = map(int, input().split())\n",
    "tomato = [[list(map(int, input().split())) for _ in range (N)] for _ in range(H)]\n",
    "\n",
    "queue = deque()\n",
    "\n",
    "for h in range(H):\n",
    "    for n in range(N):\n",
    "        for m in range(M):\n",
    "            if tomato[h][n][m] == 1:\n",
    "                queue.append([h, n, m])\n",
    "\n",
    "dz = [0, 0, 0, 0, 1, -1]\n",
    "dy = [0, 0, 1, -1, 0, 0]\n",
    "dx = [1, -1, 0, 0, 0, 0]\n",
    "result = 1\n",
    "\n",
    "while queue:\n",
    "    z, y, x = queue.popleft()\n",
    "    for d in range(6):\n",
    "        Z = z + dz[d]\n",
    "        Y = y + dy[d]\n",
    "        X = x + dx[d]\n",
    "\n",
    "        if safe3d(X, Y, Z) and tomato[Z][Y][X] == 0:\n",
    "            tomato[Z][Y][X] = tomato[z][y][x] + 1\n",
    "            queue.append([Z, Y, X])\n",
    "            if result < tomato[Z][Y][X]:\n",
    "                result = tomato[Z][Y][X]\n",
    "\n",
    "flag = 1\n",
    "while flag:\n",
    "    for h in range(H):\n",
    "        for n in range(N):\n",
    "            for m in range(M):\n",
    "                if tomato[h][n][m] == 0:\n",
    "                    result = 0\n",
    "                    flag = 0\n",
    "                    break\n",
    "    else:\n",
    "        flag = 0\n",
    "\n",
    "print(result - 1)"
   ]
  },
  {
   "cell_type": "code",
   "execution_count": null,
   "metadata": {},
   "outputs": [],
   "source": [
    "# 3055 탈출"
   ]
  },
  {
   "cell_type": "code",
   "execution_count": null,
   "metadata": {},
   "outputs": [],
   "source": []
  },
  {
   "cell_type": "code",
   "execution_count": null,
   "metadata": {},
   "outputs": [],
   "source": [
    "# 2151 거울 설치"
   ]
  },
  {
   "cell_type": "code",
   "execution_count": null,
   "metadata": {},
   "outputs": [],
   "source": []
  },
  {
   "cell_type": "code",
   "execution_count": null,
   "metadata": {},
   "outputs": [],
   "source": [
    "# 16932 모양 만들기"
   ]
  },
  {
   "cell_type": "code",
   "execution_count": 1,
   "metadata": {},
   "outputs": [
    {
     "name": "stdout",
     "output_type": "stream",
     "text": [
      "3 3\n",
      "0 1 1\n",
      "0 0 1\n",
      "0 1 0\n",
      "5\n"
     ]
    }
   ],
   "source": [
    "from collections import deque\n",
    "\n",
    "N, M = map(int, input().split())\n",
    "arr = [list(map(int, input().split())) for _ in range(N)]\n",
    "vis = [[0] * M for _ in range(N)]\n",
    "grp = [0]\n",
    "result = 0\n",
    "Q = deque()\n",
    "dy = [-1, 1, 0, 0]\n",
    "dx = [0, 0, -1, 1]\n",
    "num = 1\n",
    "for n in range(N):\n",
    "    for m in range(M):\n",
    "        if arr[n][m] and not vis[n][m]:\n",
    "            Q.append([n, m])\n",
    "            vis[n][m] = num\n",
    "            cnt = 1\n",
    "            while Q:\n",
    "                y, x = Q.popleft()\n",
    "                for d in range(4):\n",
    "                    ny = y + dy[d]\n",
    "                    nx = x + dx[d]\n",
    "                    if 0 <= ny < N and 0 <= nx < M and arr[ny][nx] and not vis[ny][nx]:\n",
    "                        Q.append([ny, nx])\n",
    "                        vis[ny][nx] = num\n",
    "                        cnt += 1\n",
    "            num += 1\n",
    "            grp.append(cnt)\n",
    "for n in range(N):\n",
    "    for m in range(M):\n",
    "        if not vis[n][m]:\n",
    "            res = 1\n",
    "            temp = []\n",
    "            for d in range(4):\n",
    "                ny = n + dy[d]\n",
    "                nx = m + dx[d]\n",
    "                if 0 <= ny < N and 0 <= nx < M and vis[ny][nx] and vis[ny][nx] not in temp:\n",
    "                    res += grp[vis[ny][nx]]\n",
    "                    temp.append(vis[ny][nx])\n",
    "            if res > result:\n",
    "                result = res\n",
    "print(result)"
   ]
  },
  {
   "cell_type": "code",
   "execution_count": null,
   "metadata": {},
   "outputs": [],
   "source": [
    "# 2636 치즈"
   ]
  },
  {
   "cell_type": "code",
   "execution_count": 1,
   "metadata": {},
   "outputs": [
    {
     "name": "stdout",
     "output_type": "stream",
     "text": [
      "13 12\n",
      "0 0 0 0 0 0 0 0 0 0 0 0\n",
      "0 0 0 0 0 0 0 0 0 0 0 0\n",
      "0 0 0 0 0 0 0 1 1 0 0 0\n",
      "0 1 1 1 0 0 0 1 1 0 0 0\n",
      "0 1 1 1 1 1 1 0 0 0 0 0\n",
      "0 1 1 1 1 1 0 1 1 0 0 0\n",
      "0 1 1 1 1 0 0 1 1 0 0 0\n",
      "0 0 1 1 0 0 0 1 1 0 0 0\n",
      "0 0 1 1 1 1 1 1 1 0 0 0\n",
      "0 0 1 1 1 1 1 1 1 0 0 0\n",
      "0 0 1 1 1 1 1 1 1 0 0 0\n",
      "0 0 1 1 1 1 1 1 1 0 0 0\n",
      "0 0 0 0 0 0 0 0 0 0 0 0\n",
      "3\n",
      "5\n"
     ]
    }
   ],
   "source": [
    "from collections import deque\n",
    "\n",
    "def melt():\n",
    "    loss = 0\n",
    "    while Q:\n",
    "        y, x = Q.popleft()\n",
    "        cheese[y][x] = 0\n",
    "        for d in range(4):\n",
    "            ny = y + dy[d]\n",
    "            nx = x + dx[d]\n",
    "            if 0 <= ny < N and 0 <= nx < M and not visited[ny][nx]:\n",
    "                if cheese[ny][nx]:\n",
    "                    Q_temp.append([ny, nx])\n",
    "                    visited[ny][nx] = True\n",
    "                    loss += 1\n",
    "                else:\n",
    "                    Q.append([ny, nx])\n",
    "                    visited[ny][nx] = True\n",
    "    return loss\n",
    "\n",
    "\n",
    "N, M = map(int, input().split())\n",
    "cheese = []\n",
    "c = 0\n",
    "for n in range(N):\n",
    "    temp = list(map(int, input().split()))\n",
    "    for m in range(M):\n",
    "        if temp[m]:\n",
    "            c += 1\n",
    "    cheese.append(temp)\n",
    "visited = [[False] * M for _ in range(N)]\n",
    "Q, Q_temp = deque(), deque()\n",
    "Q.append([0, 0])\n",
    "visited[0][0] = True\n",
    "dy = [-1, 1, 0, 0]\n",
    "dx = [0, 0, -1, 1]\n",
    "time = 1\n",
    "while True:\n",
    "    l = melt()\n",
    "    if c == l:\n",
    "        print(time)\n",
    "        print(c)\n",
    "        break\n",
    "    Q = Q_temp\n",
    "    Q_temp = deque()\n",
    "    c -= l\n",
    "    time += 1"
   ]
  }
 ],
 "metadata": {
  "kernelspec": {
   "display_name": "Python 3",
   "language": "python",
   "name": "python3"
  },
  "language_info": {
   "codemirror_mode": {
    "name": "ipython",
    "version": 3
   },
   "file_extension": ".py",
   "mimetype": "text/x-python",
   "name": "python",
   "nbconvert_exporter": "python",
   "pygments_lexer": "ipython3",
   "version": "3.7.4"
  }
 },
 "nbformat": 4,
 "nbformat_minor": 2
}
