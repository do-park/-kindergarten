{
 "cells": [
  {
   "cell_type": "code",
   "execution_count": null,
   "metadata": {
    "collapsed": true
   },
   "outputs": [],
   "source": [
    "# 18111. 마인크래프트"
   ]
  },
  {
   "cell_type": "code",
   "execution_count": 1,
   "metadata": {},
   "outputs": [
    {
     "name": "stdout",
     "output_type": "stream",
     "text": [
      "3 4 0\n",
      "64 64 64 64\n",
      "64 64 64 64\n",
      "64 64 64 63\n",
      "22 63\n"
     ]
    }
   ],
   "source": [
    "N, M, B = map(int, input().split())\n",
    "maps = [list(map(int, input().split())) for _ in range(N)]\n",
    "mini, maxi = 257, -1\n",
    "blocks = [0] * 257\n",
    "for n in range(N):\n",
    "    for m in range(M):\n",
    "        if maps[n][m] < mini:\n",
    "            mini = maps[n][m]\n",
    "        if maps[n][m] > maxi:\n",
    "            maxi = maps[n][m]\n",
    "        blocks[maps[n][m]] += 1\n",
    "time, height = 987654321, 0\n",
    "for h in range(mini, maxi + 1):\n",
    "    low, high = 0, 0\n",
    "    for i in range(257):\n",
    "        if i < h:\n",
    "            low += (h - i) * blocks[i]\n",
    "        elif i > h:\n",
    "            high += (i - h) * blocks[i]\n",
    "    if low <= high + B:\n",
    "        t = low + high * 2\n",
    "        if t <= time:\n",
    "            time = t\n",
    "            height = h\n",
    "print(time, height)"
   ]
  },
  {
   "cell_type": "code",
   "execution_count": null,
   "metadata": {
    "collapsed": true
   },
   "outputs": [],
   "source": [
    "# 2839. 설탕 배달"
   ]
  },
  {
   "cell_type": "code",
   "execution_count": 1,
   "metadata": {},
   "outputs": [
    {
     "name": "stdout",
     "output_type": "stream",
     "text": [
      "18\n",
      "4\n"
     ]
    }
   ],
   "source": [
    "sugar = int(input())\n",
    "package = 0\n",
    "\n",
    "while sugar != 0:\n",
    "    if sugar % 5 == 0:\n",
    "        package += sugar // 5\n",
    "        sugar = 0\n",
    "    else:\n",
    "        if sugar < 3:\n",
    "            package = -1\n",
    "            break\n",
    "        else:\n",
    "            sugar -= 3\n",
    "            package += 1\n",
    "\n",
    "print(package)"
   ]
  }
 ],
 "metadata": {
  "kernelspec": {
   "display_name": "Python 3",
   "language": "python",
   "name": "python3"
  },
  "language_info": {
   "codemirror_mode": {
    "name": "ipython",
    "version": 3
   },
   "file_extension": ".py",
   "mimetype": "text/x-python",
   "name": "python",
   "nbconvert_exporter": "python",
   "pygments_lexer": "ipython3",
   "version": "3.8.2"
  }
 },
 "nbformat": 4,
 "nbformat_minor": 4
}
