{
 "cells": [
  {
   "cell_type": "code",
   "execution_count": null,
   "metadata": {},
   "outputs": [],
   "source": [
    "# 15649. N과 M(1)"
   ]
  },
  {
   "cell_type": "code",
   "execution_count": 1,
   "metadata": {},
   "outputs": [
    {
     "name": "stdout",
     "output_type": "stream",
     "text": [
      "4 2\n",
      "1 2 \n",
      "1 3 \n",
      "1 4 \n",
      "2 1 \n",
      "2 3 \n",
      "2 4 \n",
      "3 1 \n",
      "3 2 \n",
      "3 4 \n",
      "4 1 \n",
      "4 2 \n",
      "4 3 \n"
     ]
    }
   ],
   "source": [
    "def permutation(N, M):\n",
    "    arr = [i for i in range(0, N)]\n",
    "    used = [0 for _ in range(len(arr))]\n",
    "\n",
    "    def generate(chosen, used):\n",
    "        if len(chosen) == M:\n",
    "            #print(chosen)\n",
    "            for i in range(M):\n",
    "                print(chosen[i], end=' ')\n",
    "            print()\n",
    "            return\n",
    "\n",
    "        for i in range(len(arr)):\n",
    "            if not used[i]:\n",
    "                chosen.append(arr[i] + 1)\n",
    "                used[i] = 1\n",
    "                generate(chosen, used)\n",
    "                used[i] = 0\n",
    "                chosen.pop()\n",
    "\n",
    "    generate([], used)\n",
    "\n",
    "\n",
    "N, M = map(int, input().split())\n",
    "permutation(N, M)"
   ]
  },
  {
   "cell_type": "code",
   "execution_count": null,
   "metadata": {},
   "outputs": [],
   "source": [
    "# 15650. N과 M(2)"
   ]
  },
  {
   "cell_type": "code",
   "execution_count": 1,
   "metadata": {},
   "outputs": [
    {
     "name": "stdout",
     "output_type": "stream",
     "text": [
      "4 2\n",
      "1 2 \n",
      "1 3 \n",
      "1 4 \n",
      "2 3 \n",
      "2 4 \n",
      "3 4 \n"
     ]
    }
   ],
   "source": [
    "def func(arr, isused, start=0, k=0):\n",
    "    if k == M:\n",
    "        for m in range(M):\n",
    "            print(arr[m] + 1, end=' ')\n",
    "        print()\n",
    "        return\n",
    "    for n in range(start, N):\n",
    "        if not isused[n]:\n",
    "            arr[k] = n\n",
    "            isused[n] = True\n",
    "            func(arr, isused, n+1, k +1)\n",
    "            isused[n] = False\n",
    "\n",
    "N, M = map(int, input().split())\n",
    "arr = [0] * M\n",
    "isused = [False] * N\n",
    "func(arr, isused)"
   ]
  },
  {
   "cell_type": "code",
   "execution_count": null,
   "metadata": {},
   "outputs": [],
   "source": [
    "# 15651. N과 M(3)"
   ]
  },
  {
   "cell_type": "code",
   "execution_count": 2,
   "metadata": {},
   "outputs": [
    {
     "name": "stdout",
     "output_type": "stream",
     "text": [
      "4 2\n",
      "1 1 \n",
      "1 2 \n",
      "1 3 \n",
      "1 4 \n",
      "2 1 \n",
      "2 2 \n",
      "2 3 \n",
      "2 4 \n",
      "3 1 \n",
      "3 2 \n",
      "3 3 \n",
      "3 4 \n",
      "4 1 \n",
      "4 2 \n",
      "4 3 \n",
      "4 4 \n"
     ]
    }
   ],
   "source": [
    "def func(arr, k=0):\n",
    "    if k == M:\n",
    "        for m in range(M):\n",
    "            print(arr[m] + 1, end=' ')\n",
    "        print()\n",
    "        return\n",
    "    for n in range(N):\n",
    "        arr[k] = n\n",
    "        func(arr, k+1)\n",
    "\n",
    "N, M = map(int, input().split())\n",
    "arr = [0] * N\n",
    "func(arr, 0)"
   ]
  },
  {
   "cell_type": "code",
   "execution_count": null,
   "metadata": {},
   "outputs": [],
   "source": [
    "# 15652. N과 M(4)"
   ]
  },
  {
   "cell_type": "code",
   "execution_count": 3,
   "metadata": {},
   "outputs": [
    {
     "name": "stdout",
     "output_type": "stream",
     "text": [
      "4 2\n",
      "1 1\n",
      "1 2\n",
      "1 3\n",
      "1 4\n",
      "2 2\n",
      "2 3\n",
      "2 4\n",
      "3 3\n",
      "3 4\n",
      "4 4\n"
     ]
    }
   ],
   "source": [
    "def func(n, m, k, l):\n",
    "    if n == k:\n",
    "        print(*result)\n",
    "        return\n",
    "    else:\n",
    "        for i in range(m):\n",
    "            if arr[i] >= l:\n",
    "                isused[i] = True\n",
    "                l = arr[i]\n",
    "                result[n] = arr[i]\n",
    "                func(n+1, m, k, l)\n",
    "                isused[i] = 0\n",
    "\n",
    "N, M = map(int, input().split())\n",
    "arr = range(1, N + 1)\n",
    "isused = [False] * N\n",
    "result = [0] * M\n",
    "func(0, N, M, 0)"
   ]
  },
  {
   "cell_type": "code",
   "execution_count": null,
   "metadata": {},
   "outputs": [],
   "source": [
    "# 15654. N과 M(5)"
   ]
  },
  {
   "cell_type": "code",
   "execution_count": null,
   "metadata": {},
   "outputs": [],
   "source": []
  },
  {
   "cell_type": "code",
   "execution_count": null,
   "metadata": {},
   "outputs": [],
   "source": [
    "# 15655. N과 M(6)"
   ]
  },
  {
   "cell_type": "code",
   "execution_count": null,
   "metadata": {},
   "outputs": [],
   "source": []
  },
  {
   "cell_type": "code",
   "execution_count": null,
   "metadata": {},
   "outputs": [],
   "source": [
    "# 15656. N과 M(7)"
   ]
  },
  {
   "cell_type": "code",
   "execution_count": null,
   "metadata": {},
   "outputs": [],
   "source": []
  },
  {
   "cell_type": "code",
   "execution_count": null,
   "metadata": {},
   "outputs": [],
   "source": [
    "# 15657. N과 M(8)"
   ]
  },
  {
   "cell_type": "code",
   "execution_count": null,
   "metadata": {},
   "outputs": [],
   "source": []
  },
  {
   "cell_type": "code",
   "execution_count": null,
   "metadata": {},
   "outputs": [],
   "source": [
    "# 15663. N과 M(9)"
   ]
  },
  {
   "cell_type": "code",
   "execution_count": null,
   "metadata": {},
   "outputs": [],
   "source": []
  },
  {
   "cell_type": "code",
   "execution_count": null,
   "metadata": {},
   "outputs": [],
   "source": [
    "# 15664. N과 M(10)"
   ]
  },
  {
   "cell_type": "code",
   "execution_count": null,
   "metadata": {},
   "outputs": [],
   "source": []
  },
  {
   "cell_type": "code",
   "execution_count": null,
   "metadata": {},
   "outputs": [],
   "source": [
    "# 15665. N과 M(11)"
   ]
  },
  {
   "cell_type": "code",
   "execution_count": null,
   "metadata": {},
   "outputs": [],
   "source": []
  },
  {
   "cell_type": "code",
   "execution_count": null,
   "metadata": {},
   "outputs": [],
   "source": [
    "# 15666. N과 M(12)"
   ]
  },
  {
   "cell_type": "code",
   "execution_count": null,
   "metadata": {},
   "outputs": [],
   "source": []
  }
 ],
 "metadata": {
  "kernelspec": {
   "display_name": "Python 3",
   "language": "python",
   "name": "python3"
  },
  "language_info": {
   "codemirror_mode": {
    "name": "ipython",
    "version": 3
   },
   "file_extension": ".py",
   "mimetype": "text/x-python",
   "name": "python",
   "nbconvert_exporter": "python",
   "pygments_lexer": "ipython3",
   "version": "3.7.4"
  }
 },
 "nbformat": 4,
 "nbformat_minor": 4
}
