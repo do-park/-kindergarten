{
 "cells": [
  {
   "cell_type": "code",
   "execution_count": null,
   "metadata": {},
   "outputs": [],
   "source": [
    "# 4949. 균형잡힌 세상"
   ]
  },
  {
   "cell_type": "code",
   "execution_count": 1,
   "metadata": {},
   "outputs": [
    {
     "name": "stdout",
     "output_type": "stream",
     "text": [
      "So when I die (the [first] I will see in (heaven) is a score list).\n",
      "yes\n",
      "[ first in ] ( first out ).\n",
      "yes\n",
      "Half Moon tonight (At least it is better than no Moon at all].\n",
      "no\n",
      "A rope may form )( a trail in a maze.\n",
      "no\n",
      "Help( I[m being held prisoner in a fortune cookie factory)].\n",
      "no\n",
      "([ (([( [ ] ) ( ) (( ))] )) ]).\n",
      "yes\n",
      " .\n",
      "yes\n",
      ".\n"
     ]
    }
   ],
   "source": [
    "while True:\n",
    "    S = input()\n",
    "    if S == '.':\n",
    "        break\n",
    "\n",
    "    S = list(S)\n",
    "    stack =[]\n",
    "    for s in S:\n",
    "        if s == '(' or s == '[':\n",
    "            stack.append(s)\n",
    "        elif s == ')':\n",
    "            if len(stack) == 0:\n",
    "                print('no')\n",
    "                break\n",
    "            else:\n",
    "                if stack[-1] == '(':\n",
    "                    del stack[-1]\n",
    "                else:\n",
    "                    print('no')\n",
    "                    break\n",
    "        elif s == ']':\n",
    "            if len(stack) == 0:\n",
    "                print('no')\n",
    "                break\n",
    "            else:\n",
    "                if stack[-1] == '[':\n",
    "                    del stack[-1]\n",
    "                else:\n",
    "                    print('no')\n",
    "                    break\n",
    "\n",
    "    else:\n",
    "        print('yes') if len(stack) == 0 else print('no')"
   ]
  },
  {
   "cell_type": "code",
   "execution_count": null,
   "metadata": {},
   "outputs": [],
   "source": [
    "# 10828. 스택"
   ]
  },
  {
   "cell_type": "code",
   "execution_count": 2,
   "metadata": {},
   "outputs": [
    {
     "name": "stdout",
     "output_type": "stream",
     "text": [
      "7\n"
     ]
    },
    {
     "ename": "IndexError",
     "evalue": "list index out of range",
     "output_type": "error",
     "traceback": [
      "\u001b[1;31m---------------------------------------------------------------------------\u001b[0m",
      "\u001b[1;31mIndexError\u001b[0m                                Traceback (most recent call last)",
      "\u001b[1;32m<ipython-input-2-165fd1da7678>\u001b[0m in \u001b[0;36m<module>\u001b[1;34m\u001b[0m\n\u001b[0;32m      6\u001b[0m \u001b[1;32mfor\u001b[0m \u001b[0mi\u001b[0m \u001b[1;32min\u001b[0m \u001b[0mrange\u001b[0m\u001b[1;33m(\u001b[0m\u001b[1;36m0\u001b[0m\u001b[1;33m,\u001b[0m \u001b[0mN\u001b[0m\u001b[1;33m)\u001b[0m\u001b[1;33m:\u001b[0m\u001b[1;33m\u001b[0m\u001b[1;33m\u001b[0m\u001b[0m\n\u001b[0;32m      7\u001b[0m     \u001b[0mcmd\u001b[0m \u001b[1;33m=\u001b[0m \u001b[0msys\u001b[0m\u001b[1;33m.\u001b[0m\u001b[0mstdin\u001b[0m\u001b[1;33m.\u001b[0m\u001b[0mreadline\u001b[0m\u001b[1;33m(\u001b[0m\u001b[1;33m)\u001b[0m\u001b[1;33m.\u001b[0m\u001b[0msplit\u001b[0m\u001b[1;33m(\u001b[0m\u001b[1;33m)\u001b[0m\u001b[1;33m\u001b[0m\u001b[1;33m\u001b[0m\u001b[0m\n\u001b[1;32m----> 8\u001b[1;33m     \u001b[1;32mif\u001b[0m \u001b[0mcmd\u001b[0m\u001b[1;33m[\u001b[0m\u001b[1;36m0\u001b[0m\u001b[1;33m]\u001b[0m \u001b[1;33m==\u001b[0m \u001b[1;34m'push'\u001b[0m\u001b[1;33m:\u001b[0m\u001b[1;33m\u001b[0m\u001b[1;33m\u001b[0m\u001b[0m\n\u001b[0m\u001b[0;32m      9\u001b[0m         \u001b[0mmy_stack\u001b[0m\u001b[1;33m.\u001b[0m\u001b[0mappend\u001b[0m\u001b[1;33m(\u001b[0m\u001b[0mcmd\u001b[0m\u001b[1;33m[\u001b[0m\u001b[1;36m1\u001b[0m\u001b[1;33m]\u001b[0m\u001b[1;33m)\u001b[0m\u001b[1;33m\u001b[0m\u001b[1;33m\u001b[0m\u001b[0m\n\u001b[0;32m     10\u001b[0m     \u001b[1;32melif\u001b[0m \u001b[0mcmd\u001b[0m\u001b[1;33m[\u001b[0m\u001b[1;36m0\u001b[0m\u001b[1;33m]\u001b[0m \u001b[1;33m==\u001b[0m \u001b[1;34m'pop'\u001b[0m\u001b[1;33m:\u001b[0m\u001b[1;33m\u001b[0m\u001b[1;33m\u001b[0m\u001b[0m\n",
      "\u001b[1;31mIndexError\u001b[0m: list index out of range"
     ]
    }
   ],
   "source": [
    "import sys\n",
    "\n",
    "N = int(input())\n",
    "my_stack = []\n",
    "\n",
    "for i in range(0, N):\n",
    "    cmd = sys.stdin.readline().split()\n",
    "    if cmd[0] == 'push':\n",
    "        my_stack.append(cmd[1])\n",
    "    elif cmd[0] == 'pop':\n",
    "        if len(my_stack):\n",
    "            print(my_stack.pop())\n",
    "        else:\n",
    "            print(-1)\n",
    "    elif cmd[0] == 'size':\n",
    "        print(len(my_stack))\n",
    "    elif cmd[0] == 'empty':\n",
    "        if len(my_stack):\n",
    "            print(0)\n",
    "        else:\n",
    "            print(1)\n",
    "    elif cmd[0] == 'top':\n",
    "        if len(my_stack):\n",
    "            print(my_stack[-1])\n",
    "        else:\n",
    "            print(-1)"
   ]
  },
  {
   "cell_type": "code",
   "execution_count": null,
   "metadata": {},
   "outputs": [],
   "source": [
    "# 5430. AC"
   ]
  },
  {
   "cell_type": "code",
   "execution_count": null,
   "metadata": {},
   "outputs": [],
   "source": []
  },
  {
   "cell_type": "code",
   "execution_count": null,
   "metadata": {},
   "outputs": [],
   "source": [
    "# 9012. 괄호"
   ]
  },
  {
   "cell_type": "code",
   "execution_count": 3,
   "metadata": {},
   "outputs": [
    {
     "name": "stdout",
     "output_type": "stream",
     "text": [
      "6\n",
      "(())())\n",
      "NO\n",
      "(((()())()\n",
      "NO\n",
      "(()())((()))\n",
      "YES\n",
      "((()()(()))(((())))()\n",
      "NO\n",
      "()()()()(()()())()\n",
      "YES\n",
      "(()((())()(\n",
      "NO\n"
     ]
    }
   ],
   "source": [
    "T = int(input())\n",
    "\n",
    "for tc in range(T):\n",
    "    S = list(map(str, input()))\n",
    "    stack =[]\n",
    "    for s in S:\n",
    "        if s == '(':\n",
    "            stack.append(s)\n",
    "        elif s == ')':\n",
    "            if len(stack) == 0:\n",
    "                print('NO')\n",
    "                break\n",
    "            else:\n",
    "                del stack[-1]\n",
    "\n",
    "    else:\n",
    "        print('YES') if len(stack) == 0 else print('NO')"
   ]
  }
 ],
 "metadata": {
  "kernelspec": {
   "display_name": "Python 3",
   "language": "python",
   "name": "python3"
  },
  "language_info": {
   "codemirror_mode": {
    "name": "ipython",
    "version": 3
   },
   "file_extension": ".py",
   "mimetype": "text/x-python",
   "name": "python",
   "nbconvert_exporter": "python",
   "pygments_lexer": "ipython3",
   "version": "3.7.3"
  }
 },
 "nbformat": 4,
 "nbformat_minor": 4
}
