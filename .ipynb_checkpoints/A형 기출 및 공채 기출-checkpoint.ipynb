{
 "cells": [
  {
   "cell_type": "code",
   "execution_count": null,
   "metadata": {},
   "outputs": [],
   "source": [
    "# 16137 견우와 직녀"
   ]
  },
  {
   "cell_type": "code",
   "execution_count": null,
   "metadata": {},
   "outputs": [],
   "source": []
  },
  {
   "cell_type": "code",
   "execution_count": null,
   "metadata": {},
   "outputs": [],
   "source": [
    "# 16637 괄호 추가하기"
   ]
  },
  {
   "cell_type": "code",
   "execution_count": null,
   "metadata": {},
   "outputs": [],
   "source": []
  },
  {
   "cell_type": "code",
   "execution_count": null,
   "metadata": {},
   "outputs": [],
   "source": [
    "# 17142 연구소 3"
   ]
  },
  {
   "cell_type": "code",
   "execution_count": null,
   "metadata": {},
   "outputs": [],
   "source": []
  },
  {
   "cell_type": "code",
   "execution_count": null,
   "metadata": {},
   "outputs": [],
   "source": [
    "# 16235 나무 재테크"
   ]
  },
  {
   "cell_type": "code",
   "execution_count": null,
   "metadata": {},
   "outputs": [],
   "source": []
  },
  {
   "cell_type": "code",
   "execution_count": null,
   "metadata": {},
   "outputs": [],
   "source": [
    "# 17779 게리맨더링 2"
   ]
  },
  {
   "cell_type": "code",
   "execution_count": null,
   "metadata": {},
   "outputs": [],
   "source": []
  },
  {
   "cell_type": "code",
   "execution_count": null,
   "metadata": {},
   "outputs": [],
   "source": [
    "# 17837 새로운 게임 2"
   ]
  },
  {
   "cell_type": "code",
   "execution_count": null,
   "metadata": {},
   "outputs": [],
   "source": []
  },
  {
   "cell_type": "code",
   "execution_count": null,
   "metadata": {},
   "outputs": [],
   "source": [
    "# 17822 원판 돌리기"
   ]
  },
  {
   "cell_type": "code",
   "execution_count": null,
   "metadata": {},
   "outputs": [],
   "source": []
  },
  {
   "cell_type": "code",
   "execution_count": null,
   "metadata": {},
   "outputs": [],
   "source": [
    "# 17825 주사위 윷놀이"
   ]
  },
  {
   "cell_type": "code",
   "execution_count": null,
   "metadata": {},
   "outputs": [],
   "source": []
  },
  {
   "cell_type": "code",
   "execution_count": null,
   "metadata": {},
   "outputs": [],
   "source": [
    "# 14891 톱니바퀴"
   ]
  },
  {
   "cell_type": "code",
   "execution_count": null,
   "metadata": {},
   "outputs": [],
   "source": []
  },
  {
   "cell_type": "code",
   "execution_count": null,
   "metadata": {},
   "outputs": [],
   "source": [
    "# 3190 뱀"
   ]
  },
  {
   "cell_type": "code",
   "execution_count": null,
   "metadata": {},
   "outputs": [],
   "source": []
  },
  {
   "cell_type": "code",
   "execution_count": null,
   "metadata": {},
   "outputs": [],
   "source": [
    "# 13460 구슬 탈출 2"
   ]
  },
  {
   "cell_type": "code",
   "execution_count": null,
   "metadata": {},
   "outputs": [],
   "source": []
  },
  {
   "cell_type": "code",
   "execution_count": null,
   "metadata": {},
   "outputs": [],
   "source": [
    "# 17070 파이프 옮기기 1"
   ]
  },
  {
   "cell_type": "code",
   "execution_count": null,
   "metadata": {},
   "outputs": [],
   "source": []
  },
  {
   "cell_type": "code",
   "execution_count": null,
   "metadata": {},
   "outputs": [],
   "source": [
    "# 17406 배열 돌리기 4"
   ]
  },
  {
   "cell_type": "code",
   "execution_count": null,
   "metadata": {},
   "outputs": [],
   "source": []
  },
  {
   "cell_type": "code",
   "execution_count": null,
   "metadata": {},
   "outputs": [],
   "source": [
    "# 17471 게리맨더링"
   ]
  },
  {
   "cell_type": "code",
   "execution_count": null,
   "metadata": {},
   "outputs": [],
   "source": []
  },
  {
   "cell_type": "code",
   "execution_count": null,
   "metadata": {},
   "outputs": [],
   "source": [
    "# 17472 다리 만들기 2"
   ]
  },
  {
   "cell_type": "code",
   "execution_count": null,
   "metadata": {},
   "outputs": [],
   "source": []
  },
  {
   "cell_type": "code",
   "execution_count": null,
   "metadata": {},
   "outputs": [],
   "source": [
    "# 17143 낚시왕"
   ]
  },
  {
   "cell_type": "code",
   "execution_count": 1,
   "metadata": {},
   "outputs": [
    {
     "name": "stdout",
     "output_type": "stream",
     "text": [
      "2 2 4\n",
      "1 1 1 1 1\n",
      "2 2 2 2 2\n",
      "1 2 1 2 3\n",
      "2 1 2 1 4\n",
      "4\n"
     ]
    }
   ],
   "source": [
    "from collections import deque\n",
    "\n",
    "def moving(Q, maps):\n",
    "    tmaps = [[-1] * C for _ in range(R)]\n",
    "    tQ = deque()\n",
    "    while Q:\n",
    "        y, x = Q.popleft()\n",
    "        shark = maps[y][x]\n",
    "        if shark != -1:\n",
    "            s = sharks[shark][0]\n",
    "            d = sharks[shark][1]\n",
    "            z = sharks[shark][2]\n",
    "            ny = y + dy[d] * s\n",
    "            nx = x + dx[d] * s\n",
    "            if d < 3:\n",
    "                if 0 <= ny < R:\n",
    "                    pass\n",
    "                else:\n",
    "                    if ny < 0:\n",
    "                        ny = abs(ny)\n",
    "                    if not (ny // (R - 1)) % 2:\n",
    "                        d = 2\n",
    "                        ny = ny % (R - 1)\n",
    "                    else:\n",
    "                        d = 1\n",
    "                        ny = (R - 1) - (ny % (R - 1))\n",
    "            else:\n",
    "                if 0 <= nx < C:\n",
    "                    pass\n",
    "                else:\n",
    "                    if nx < 0:\n",
    "                        nx = abs(nx)\n",
    "                    if not (nx // (C - 1)) % 2:\n",
    "                        d = 3\n",
    "                        nx = nx % (C - 1)\n",
    "                    else:\n",
    "                        d = 4\n",
    "                        nx = (C - 1) - (nx % (C - 1))\n",
    "            sharks[shark][1] = d\n",
    "            if tmaps[ny][nx] == -1:\n",
    "                tmaps[ny][nx] = shark\n",
    "                tQ.append([ny, nx])\n",
    "            else:\n",
    "                if sharks[tmaps[ny][nx]][2] < z:\n",
    "                    tmaps[ny][nx] = shark\n",
    "    return tQ, tmaps\n",
    "\n",
    "\n",
    "\n",
    "R, C, M = map(int, input().split())\n",
    "maps = [[-1] * C for _ in range(R)]\n",
    "sharks = []     # 0: 속력, 1: 이동방향, 2: 크기\n",
    "maxR = (R - 1) * 2\n",
    "maxC = (C - 1) * 2\n",
    "Q = deque()\n",
    "for m in range(M):\n",
    "    r, c, s, d, z = map(int, input().split())\n",
    "    maps[r - 1][c - 1] = m\n",
    "    sharks.append([s, d, z])\n",
    "    Q.append([r - 1, c - 1])\n",
    "score = 0\n",
    "dy = [0, -1, 1, 0, 0]\n",
    "dx = [0, 0, 0, 1, -1]\n",
    "for c in range(C):\n",
    "    if not Q:\n",
    "        break\n",
    "    for r in range(R):\n",
    "        if maps[r][c] != -1:\n",
    "            score += sharks[maps[r][c]][2]\n",
    "            maps[r][c] = -1\n",
    "            break\n",
    "    Q, maps = moving(Q, maps)\n",
    "print(score)"
   ]
  }
 ],
 "metadata": {
  "kernelspec": {
   "display_name": "Python 3",
   "language": "python",
   "name": "python3"
  },
  "language_info": {
   "codemirror_mode": {
    "name": "ipython",
    "version": 3
   },
   "file_extension": ".py",
   "mimetype": "text/x-python",
   "name": "python",
   "nbconvert_exporter": "python",
   "pygments_lexer": "ipython3",
   "version": "3.7.4"
  }
 },
 "nbformat": 4,
 "nbformat_minor": 2
}
