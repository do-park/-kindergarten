{
 "cells": [
  {
   "cell_type": "code",
   "execution_count": null,
   "metadata": {},
   "outputs": [],
   "source": [
    "# 1592. 영식이와 친구들"
   ]
  },
  {
   "cell_type": "code",
   "execution_count": 1,
   "metadata": {},
   "outputs": [
    {
     "name": "stdout",
     "output_type": "stream",
     "text": [
      "5 3 2\n",
      "10\n"
     ]
    }
   ],
   "source": [
    "N, M, L = map(int, input().split())\n",
    "players = [0] * N\n",
    "\n",
    "now = 0\n",
    "while max(players) < M:\n",
    "    players[now] += 1\n",
    "    if players[now] % 2:\n",
    "        now = (now + L) % N\n",
    "    else:\n",
    "        now = (now - L) % N\n",
    "\n",
    "print(sum(players) - 1)"
   ]
  },
  {
   "cell_type": "code",
   "execution_count": null,
   "metadata": {},
   "outputs": [],
   "source": [
    "# 2798. 블랙잭"
   ]
  },
  {
   "cell_type": "code",
   "execution_count": 2,
   "metadata": {},
   "outputs": [
    {
     "name": "stdout",
     "output_type": "stream",
     "text": [
      "5 21\n",
      "5 6 7 8 9\n",
      "21\n"
     ]
    }
   ],
   "source": [
    "import itertools\n",
    "\n",
    "N, M = map(int, input().split())\n",
    "Cards = list(map(int, input().split()))\n",
    "\n",
    "C = itertools.combinations(Cards, 3)\n",
    "C = list(C)\n",
    "\n",
    "blackjack = float(\"inf\")\n",
    "for i in range(len(C)):\n",
    "    if abs(M-sum(C[i])) < abs(M - blackjack) and M >= sum(C[i]):\n",
    "        blackjack = sum(C[i])\n",
    "\n",
    "print(blackjack)"
   ]
  },
  {
   "cell_type": "code",
   "execution_count": null,
   "metadata": {},
   "outputs": [],
   "source": [
    "# 11399. ATM"
   ]
  },
  {
   "cell_type": "code",
   "execution_count": 3,
   "metadata": {},
   "outputs": [
    {
     "name": "stdout",
     "output_type": "stream",
     "text": [
      "5\n",
      "3 1 4 3 2\n",
      "32\n"
     ]
    }
   ],
   "source": [
    "N = int(input())\n",
    "people = list(map(int, input().split()))\n",
    "people = sorted(people)\n",
    "sums = []\n",
    "\n",
    "for i in range(0, N):\n",
    "    sums.append(sum(people[0:i+1]))\n",
    "\n",
    "print(sum(sums))"
   ]
  },
  {
   "cell_type": "code",
   "execution_count": null,
   "metadata": {},
   "outputs": [],
   "source": [
    "# 17413. 단어 뒤집기 2"
   ]
  },
  {
   "cell_type": "code",
   "execution_count": null,
   "metadata": {},
   "outputs": [],
   "source": []
  },
  {
   "cell_type": "code",
   "execution_count": null,
   "metadata": {},
   "outputs": [],
   "source": [
    "# 2999. 비밀 이메일"
   ]
  },
  {
   "cell_type": "code",
   "execution_count": 4,
   "metadata": {},
   "outputs": [
    {
     "name": "stdout",
     "output_type": "stream",
     "text": [
      "boudonuimilcbsai\n",
      "bombonisuuladici"
     ]
    }
   ],
   "source": [
    "letters = list(input())\n",
    "length = len(letters)\n",
    "\n",
    "listR = []\n",
    "listC = []\n",
    "for i in range(1, length):\n",
    "    if length // i == length / i:\n",
    "        R = i\n",
    "        C = length // i\n",
    "        if R > C:\n",
    "            break\n",
    "        else:\n",
    "            listR.append(R)\n",
    "            listC.append(C)\n",
    "\n",
    "R = listR[-1]\n",
    "C = listC[-1]\n",
    "for i in range(0, R):\n",
    "    for r in range(i, length, R):\n",
    "        print(letters[r], end='')"
   ]
  },
  {
   "cell_type": "code",
   "execution_count": null,
   "metadata": {},
   "outputs": [],
   "source": [
    "# 8320. 직사각형을 만드는 방법"
   ]
  },
  {
   "cell_type": "code",
   "execution_count": 5,
   "metadata": {},
   "outputs": [
    {
     "name": "stdout",
     "output_type": "stream",
     "text": [
      "6\n",
      "8\n"
     ]
    }
   ],
   "source": [
    "N = int(input())\n",
    "\n",
    "count = 0\n",
    "for n in range(1, N + 1):\n",
    "    for a in range(1, n + 1):\n",
    "        if n // a == n / a:\n",
    "            b = n // a\n",
    "            if a > b:\n",
    "                break\n",
    "            else:\n",
    "                count += 1\n",
    "\n",
    "print(count)"
   ]
  }
 ],
 "metadata": {
  "kernelspec": {
   "display_name": "Python 3",
   "language": "python",
   "name": "python3"
  },
  "language_info": {
   "codemirror_mode": {
    "name": "ipython",
    "version": 3
   },
   "file_extension": ".py",
   "mimetype": "text/x-python",
   "name": "python",
   "nbconvert_exporter": "python",
   "pygments_lexer": "ipython3",
   "version": "3.7.4"
  }
 },
 "nbformat": 4,
 "nbformat_minor": 2
}
