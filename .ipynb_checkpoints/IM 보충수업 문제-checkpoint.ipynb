{
 "cells": [
  {
   "cell_type": "code",
   "execution_count": null,
   "metadata": {},
   "outputs": [],
   "source": [
    "# 2941. 크로아티아 알파벳"
   ]
  },
  {
   "cell_type": "code",
   "execution_count": null,
   "metadata": {},
   "outputs": [],
   "source": []
  },
  {
   "cell_type": "code",
   "execution_count": null,
   "metadata": {},
   "outputs": [],
   "source": [
    "# 2567. 색종이 -2"
   ]
  },
  {
   "cell_type": "code",
   "execution_count": null,
   "metadata": {},
   "outputs": [],
   "source": []
  },
  {
   "cell_type": "code",
   "execution_count": null,
   "metadata": {},
   "outputs": [],
   "source": [
    "# 2804. 크로스워드 만들기"
   ]
  },
  {
   "cell_type": "code",
   "execution_count": 2,
   "metadata": {},
   "outputs": [
    {
     "name": "stdout",
     "output_type": "stream",
     "text": [
      "BANANA PIDZAMA\n",
      ".P....\n",
      ".I....\n",
      ".D....\n",
      ".Z....\n",
      "BANANA\n",
      ".M....\n",
      ".A....\n"
     ]
    }
   ],
   "source": [
    "A, B = input().split()\n",
    "N = len(A)      # N 칸\n",
    "M = len(B)      # M 줄\n",
    "\n",
    "\n",
    "cross = [['.'] * N for _ in range(M)]\n",
    "\n",
    "flag = 0\n",
    "for i in range(N):\n",
    "    for j in range(M):\n",
    "        if A[i] == B[j]:\n",
    "            flag = 1\n",
    "            break\n",
    "    if flag:\n",
    "        break\n",
    "\n",
    "for x in range(0, N):\n",
    "    cross[j][x] = A[x]\n",
    "\n",
    "for y in range(0, M):\n",
    "    cross[y][i] = B[y]\n",
    "\n",
    "for i in range(0, M):\n",
    "    for j in range(0, N):\n",
    "        print(cross[i][j], end='')\n",
    "    print()"
   ]
  },
  {
   "cell_type": "code",
   "execution_count": null,
   "metadata": {},
   "outputs": [],
   "source": [
    "# 2851. 슈퍼 마리오"
   ]
  },
  {
   "cell_type": "code",
   "execution_count": 1,
   "metadata": {},
   "outputs": [
    {
     "name": "stdout",
     "output_type": "stream",
     "text": [
      "10\n",
      "20\n",
      "30\n",
      "40\n",
      "50\n",
      "60\n",
      "70\n",
      "80\n",
      "90\n",
      "100\n",
      "100\n"
     ]
    }
   ],
   "source": [
    "mario = []\n",
    "sums = []\n",
    "\n",
    "for i in range(0, 10):\n",
    "    tmp = int(input())\n",
    "    mario.append(tmp)\n",
    "\n",
    "tmp = 0\n",
    "result = 0\n",
    "for i in range(0, 10):\n",
    "    tmp += mario[i]\n",
    "    if abs(tmp - 100) < abs(result - 100):\n",
    "        result = tmp\n",
    "    if abs(tmp - 100) == abs(result - 100):\n",
    "        result = max(tmp, result)\n",
    "\n",
    "print(result)"
   ]
  },
  {
   "cell_type": "code",
   "execution_count": null,
   "metadata": {},
   "outputs": [],
   "source": [
    "# 2536. 색종이"
   ]
  },
  {
   "cell_type": "code",
   "execution_count": 1,
   "metadata": {},
   "outputs": [
    {
     "name": "stdout",
     "output_type": "stream",
     "text": [
      "3\n",
      "3 7\n",
      "15 7\n",
      "5 2\n",
      "260\n"
     ]
    }
   ],
   "source": [
    "area = [[0] * 100 for _ in range(0, 100)]\n",
    "\n",
    "T = int(input())\n",
    "\n",
    "for tc in range(T):\n",
    "    X, Y = map(int, input().split())\n",
    "    for j in range(Y, Y + 10):\n",
    "        for i in range(X, X + 10):\n",
    "            area[i][j] = 1\n",
    "            \n",
    "sum = 0\n",
    "for i in range(0, 100):\n",
    "    sum += area[i].count(1)\n",
    "\n",
    "print(sum)"
   ]
  },
  {
   "cell_type": "code",
   "execution_count": null,
   "metadata": {},
   "outputs": [],
   "source": [
    "# 1244. 스위치 켜고 끄기"
   ]
  },
  {
   "cell_type": "code",
   "execution_count": null,
   "metadata": {},
   "outputs": [],
   "source": []
  }
 ],
 "metadata": {
  "kernelspec": {
   "display_name": "Python 3",
   "language": "python",
   "name": "python3"
  },
  "language_info": {
   "codemirror_mode": {
    "name": "ipython",
    "version": 3
   },
   "file_extension": ".py",
   "mimetype": "text/x-python",
   "name": "python",
   "nbconvert_exporter": "python",
   "pygments_lexer": "ipython3",
   "version": "3.7.3"
  }
 },
 "nbformat": 4,
 "nbformat_minor": 4
}
