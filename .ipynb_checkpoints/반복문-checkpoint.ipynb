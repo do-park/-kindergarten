{
 "cells": [
  {
   "cell_type": "code",
   "execution_count": null,
   "metadata": {},
   "outputs": [],
   "source": [
    "# 3076. 상근이의 체스판"
   ]
  },
  {
   "cell_type": "code",
   "execution_count": 1,
   "metadata": {},
   "outputs": [
    {
     "name": "stdout",
     "output_type": "stream",
     "text": [
      "5 5\n",
      "2 3\n",
      "XXX...XXX...XXX\n",
      "XXX...XXX...XXX\n",
      "...XXX...XXX...\n",
      "...XXX...XXX...\n",
      "XXX...XXX...XXX\n",
      "XXX...XXX...XXX\n",
      "...XXX...XXX...\n",
      "...XXX...XXX...\n",
      "XXX...XXX...XXX\n",
      "XXX...XXX...XXX\n"
     ]
    }
   ],
   "source": [
    "R, C = input().split()\n",
    "R = int(R); C = int(C)\n",
    "A, B = input().split()\n",
    "A = int(A); B = int(B)\n",
    "\n",
    "for i in range(0, R):\n",
    "    for k in range(0, A):\n",
    "        for j in range(0, C):\n",
    "            if i % 2:\n",
    "                if j % 2:\n",
    "                    print('X' * B, end='')\n",
    "                else:\n",
    "                    print('.' * B, end='')\n",
    "            else:\n",
    "                if j % 2:\n",
    "                    print('.' * B, end='')\n",
    "                else:\n",
    "                    print('X' * B, end='')\n",
    "        print()"
   ]
  },
  {
   "cell_type": "code",
   "execution_count": null,
   "metadata": {},
   "outputs": [],
   "source": [
    "# 2810. 컵홀더"
   ]
  },
  {
   "cell_type": "code",
   "execution_count": 2,
   "metadata": {},
   "outputs": [
    {
     "name": "stdout",
     "output_type": "stream",
     "text": [
      "9\n",
      "SLLLLSSLL\n",
      "7\n"
     ]
    }
   ],
   "source": [
    "N = int(input())\n",
    "seats = input()\n",
    "num_s = 0\n",
    "num_l = 0\n",
    "\n",
    "for i in seats:\n",
    "    if i == 'S':\n",
    "        num_s += 1\n",
    "    else:\n",
    "        num_l += 1\n",
    "\n",
    "if num_l == 0:\n",
    "    print(N)\n",
    "elif num_s == 0:\n",
    "    print(num_l // 2 + 1)\n",
    "else:\n",
    "    result = num_s + (num_l // 2) + 1\n",
    "    if result > N:\n",
    "        print(N)\n",
    "    else:\n",
    "        print(result)"
   ]
  },
  {
   "cell_type": "code",
   "execution_count": null,
   "metadata": {},
   "outputs": [],
   "source": [
    "# 2997. 네 번째 수"
   ]
  },
  {
   "cell_type": "code",
   "execution_count": 3,
   "metadata": {},
   "outputs": [
    {
     "name": "stdout",
     "output_type": "stream",
     "text": [
      "8 4 6\n",
      "10\n"
     ]
    }
   ],
   "source": [
    "numbers = list(map(int, input().split()))\n",
    "numbers.sort()\n",
    "\n",
    "if (numbers[1] - numbers[0]) == (numbers[2] - numbers[1]):\n",
    "    print( 2 * numbers[2] - numbers[1])\n",
    "else:\n",
    "    if (numbers[1] - numbers[0]) > (numbers[2] - numbers[1]):\n",
    "        print((numbers[0] + numbers[1]) // 2)\n",
    "    else:\n",
    "        print((numbers[1] + numbers[2]) // 2)"
   ]
  },
  {
   "cell_type": "code",
   "execution_count": null,
   "metadata": {},
   "outputs": [],
   "source": [
    "# 9625. BABBA"
   ]
  },
  {
   "cell_type": "code",
   "execution_count": null,
   "metadata": {},
   "outputs": [],
   "source": []
  },
  {
   "cell_type": "code",
   "execution_count": null,
   "metadata": {},
   "outputs": [],
   "source": [
    "# 3035. 스캐너"
   ]
  },
  {
   "cell_type": "code",
   "execution_count": null,
   "metadata": {},
   "outputs": [],
   "source": []
  },
  {
   "cell_type": "code",
   "execution_count": null,
   "metadata": {},
   "outputs": [],
   "source": [
    "# 8974. 희주의 수학시험"
   ]
  },
  {
   "cell_type": "code",
   "execution_count": null,
   "metadata": {},
   "outputs": [],
   "source": []
  }
 ],
 "metadata": {
  "kernelspec": {
   "display_name": "Python 3",
   "language": "python",
   "name": "python3"
  },
  "language_info": {
   "codemirror_mode": {
    "name": "ipython",
    "version": 3
   },
   "file_extension": ".py",
   "mimetype": "text/x-python",
   "name": "python",
   "nbconvert_exporter": "python",
   "pygments_lexer": "ipython3",
   "version": "3.7.3"
  }
 },
 "nbformat": 4,
 "nbformat_minor": 4
}
