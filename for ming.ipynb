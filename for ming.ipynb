{
 "cells": [
  {
   "cell_type": "code",
   "execution_count": null,
   "metadata": {},
   "outputs": [],
   "source": [
    "# 2476. 주사위 게임"
   ]
  },
  {
   "cell_type": "code",
   "execution_count": 1,
   "metadata": {},
   "outputs": [
    {
     "name": "stdout",
     "output_type": "stream",
     "text": [
      "3\n",
      "3 3 6\n",
      "2 2 2\n",
      "6 2 5\n",
      "12000\n"
     ]
    }
   ],
   "source": [
    "N = int(input())\n",
    "dice = [list(map(int, input().split())) for _ in range(0, N)]\n",
    "money = [0] * N\n",
    "\n",
    "\n",
    "for i in range(0, N):\n",
    "    for j in range(0, 3):\n",
    "        if dice[i].count(dice[i][j]) == 3:\n",
    "            money[i] = 10000 + dice[i][j] * 1000\n",
    "            break\n",
    "        elif dice[i].count(dice[i][j]) == 2:\n",
    "            money[i] = 1000 + dice[i][j] * 100\n",
    "            break\n",
    "        else:\n",
    "            temp = dice[i][j] * 100\n",
    "            if temp > money[i]:\n",
    "                money[i] = temp\n",
    "\n",
    "print(max(money))"
   ]
  },
  {
   "cell_type": "code",
   "execution_count": null,
   "metadata": {},
   "outputs": [],
   "source": [
    "# 2490. 윷놀이"
   ]
  },
  {
   "cell_type": "code",
   "execution_count": 2,
   "metadata": {},
   "outputs": [
    {
     "name": "stdout",
     "output_type": "stream",
     "text": [
      "0 1 0 1\n",
      "B\n",
      "1 1 1 0\n",
      "A\n",
      "0 0 1 1\n",
      "B\n"
     ]
    }
   ],
   "source": [
    "for tc in range(3):\n",
    "    yuts = list(map(str, input().split()))\n",
    "    count = yuts.count('0')\n",
    "\n",
    "    if count == 0:\n",
    "        print('E')\n",
    "    elif count == 1:\n",
    "        print('A')\n",
    "    elif count == 2:\n",
    "        print('B')\n",
    "    elif count == 3:\n",
    "        print('C')\n",
    "    else:\n",
    "        print('D')"
   ]
  },
  {
   "cell_type": "code",
   "execution_count": null,
   "metadata": {},
   "outputs": [],
   "source": [
    "# 2501. 약수 구하기"
   ]
  },
  {
   "cell_type": "code",
   "execution_count": 3,
   "metadata": {},
   "outputs": [
    {
     "name": "stdout",
     "output_type": "stream",
     "text": [
      "6 3\n",
      "3\n"
     ]
    }
   ],
   "source": [
    "N, K = map(int, input().split())\n",
    "divisor = []\n",
    "\n",
    "for n in range(1, N + 1):\n",
    "    if N % n == 0:\n",
    "        divisor.append(n)\n",
    "\n",
    "if len(divisor) >= K:\n",
    "    print(divisor[K - 1])\n",
    "else:\n",
    "    print(0)"
   ]
  },
  {
   "cell_type": "code",
   "execution_count": null,
   "metadata": {},
   "outputs": [],
   "source": [
    "# 2511. 카드놀이"
   ]
  },
  {
   "cell_type": "code",
   "execution_count": 4,
   "metadata": {},
   "outputs": [
    {
     "name": "stdout",
     "output_type": "stream",
     "text": [
      "4 5 6 7 0 1 2 3 9 8\n",
      "1 2 3 4 5 6 7 8 9 0\n",
      "16 13\n",
      "A\n"
     ]
    }
   ],
   "source": [
    "card_A = list(map(int, input().split()))\n",
    "card_B = list(map(int, input().split()))\n",
    "score = []\n",
    "\n",
    "for i in range(0, 10):\n",
    "    if card_A[i] > card_B[i]:\n",
    "        score.append('A')\n",
    "    elif card_B[i] > card_A[i]:\n",
    "        score.append('B')\n",
    "    else:\n",
    "        score.append('D')\n",
    "\n",
    "A = score.count('A') * 3 + score.count('D')\n",
    "B = score.count('B') * 3 + score.count('D')\n",
    "\n",
    "print(A, B)\n",
    "if A > B:\n",
    "    print('A')\n",
    "elif B > A:\n",
    "    print('B')\n",
    "else:\n",
    "    if A == 10:\n",
    "        print('D')\n",
    "    else:\n",
    "        for i in range(9, -1, -1):\n",
    "            if score[i] != 'D':\n",
    "                print(score[i])\n",
    "                break"
   ]
  },
  {
   "cell_type": "code",
   "execution_count": null,
   "metadata": {},
   "outputs": [],
   "source": [
    "# 16504. 종이접기"
   ]
  },
  {
   "cell_type": "code",
   "execution_count": 5,
   "metadata": {},
   "outputs": [
    {
     "name": "stdout",
     "output_type": "stream",
     "text": [
      "4\n",
      "2 6 5 4\n",
      "1 5 7 6\n",
      "9 8 8 7\n",
      "1 4 7 8\n",
      "88\n"
     ]
    }
   ],
   "source": [
    "N = int(input())\n",
    "paper = [list(map(int, input().split())) for _ in range(N)]\n",
    "\n",
    "result = 0\n",
    "for n in range(0, N):\n",
    "    result += sum(paper[n])\n",
    "\n",
    "print(result)"
   ]
  },
  {
   "cell_type": "code",
   "execution_count": null,
   "metadata": {},
   "outputs": [],
   "source": [
    "# 11179. 2진수 뒤집기"
   ]
  },
  {
   "cell_type": "code",
   "execution_count": 6,
   "metadata": {},
   "outputs": [
    {
     "name": "stdout",
     "output_type": "stream",
     "text": [
      "47\n",
      "61\n"
     ]
    }
   ],
   "source": [
    "N = int(input())\n",
    "bin_list = []\n",
    "\n",
    "while N != 0:\n",
    "    bin_list.append(N % 2)\n",
    "    N = N // 2\n",
    "\n",
    "result = 0\n",
    "length = len(bin_list)\n",
    "for i in range(0, length):\n",
    "    result += 2 ** (length - i - 1) * bin_list[i]\n",
    "\n",
    "print(result)"
   ]
  },
  {
   "cell_type": "code",
   "execution_count": null,
   "metadata": {},
   "outputs": [],
   "source": [
    "# 1934. 최소공배수"
   ]
  },
  {
   "cell_type": "code",
   "execution_count": 7,
   "metadata": {},
   "outputs": [
    {
     "name": "stdout",
     "output_type": "stream",
     "text": [
      "3\n",
      "1 45000\n",
      "45000\n",
      "6 10\n",
      "30\n",
      "13 17\n",
      "221\n"
     ]
    }
   ],
   "source": [
    "T = int(input())\n",
    "\n",
    "for tc in range(0, T):\n",
    "    A, B = map(int, input().split())\n",
    "    X = min(A, B)\n",
    "\n",
    "    for x in range(X, 0, -1):\n",
    "        if A % x == 0 and B % x == 0:\n",
    "            break\n",
    "\n",
    "    print(A * B // x)"
   ]
  },
  {
   "cell_type": "code",
   "execution_count": null,
   "metadata": {},
   "outputs": [],
   "source": [
    "# 1913. 달팽이"
   ]
  },
  {
   "cell_type": "code",
   "execution_count": 1,
   "metadata": {},
   "outputs": [
    {
     "name": "stdout",
     "output_type": "stream",
     "text": [
      "7\n",
      "35\n",
      "49 26 27 28 29 30 31 \n",
      "48 25 10 11 12 13 32 \n",
      "47 24 9 2 3 14 33 \n",
      "46 23 8 1 4 15 34 \n",
      "45 22 7 6 5 16 35 \n",
      "44 21 20 19 18 17 36 \n",
      "43 42 41 40 39 38 37 \n",
      "5 7\n"
     ]
    }
   ],
   "source": [
    "N = int(input())\n",
    "K = int(input())\n",
    "arr = [[0] * N for _ in range(N)]\n",
    "dir = 'D'\n",
    "i, j = -1, 0\n",
    "n = N * N\n",
    "while True:\n",
    "    if dir == 'D':\n",
    "        i += 1\n",
    "        arr[i][j] = n\n",
    "        n -= 1\n",
    "        if i + 1 == N or arr[i + 1][j] != 0:\n",
    "            dir = 'R'\n",
    "        if not n:\n",
    "            break\n",
    "    if dir == 'R':\n",
    "        j += 1\n",
    "        arr[i][j] = n\n",
    "        n -= 1\n",
    "        if j + 1 == N or arr[i][j + 1] != 0:\n",
    "            dir = 'U'\n",
    "    if dir == 'U':\n",
    "        i -= 1\n",
    "        arr[i][j] = n\n",
    "        n -= 1\n",
    "        if i - 1 < 0 or arr[i - 1][j] != 0:\n",
    "            dir = 'L'\n",
    "    if dir == 'L':\n",
    "        j -= 1\n",
    "        arr[i][j] = n\n",
    "        n -= 1\n",
    "        if j - 1 < 0 or arr[i][j - 1] != 0:\n",
    "            dir ='D'\n",
    "\n",
    "ans = []\n",
    "for i in range(N):\n",
    "    for j in range(N):\n",
    "        print(arr[i][j], end=' ')\n",
    "        if arr[i][j] == K:\n",
    "            ans.append(i + 1)\n",
    "            ans.append(j + 1)\n",
    "    print()\n",
    "print(*ans)"
   ]
  }
 ],
 "metadata": {
  "kernelspec": {
   "display_name": "Python 3",
   "language": "python",
   "name": "python3"
  },
  "language_info": {
   "codemirror_mode": {
    "name": "ipython",
    "version": 3
   },
   "file_extension": ".py",
   "mimetype": "text/x-python",
   "name": "python",
   "nbconvert_exporter": "python",
   "pygments_lexer": "ipython3",
   "version": "3.7.6"
  }
 },
 "nbformat": 4,
 "nbformat_minor": 2
}
