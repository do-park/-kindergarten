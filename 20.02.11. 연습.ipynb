{
 "cells": [
  {
   "cell_type": "code",
   "execution_count": null,
   "metadata": {},
   "outputs": [],
   "source": [
    "# 2846. 오르막길"
   ]
  },
  {
   "cell_type": "code",
   "execution_count": 1,
   "metadata": {},
   "outputs": [
    {
     "name": "stdout",
     "output_type": "stream",
     "text": [
      "8\n",
      "12 20 1 3 4 4 11 1\n",
      "8\n"
     ]
    }
   ],
   "source": [
    "N = int(input())\n",
    "gil = list(map(int, input().split()))\n",
    "\n",
    "temp = 0\n",
    "ormak = []\n",
    "for i in range(0, N - 1):\n",
    "    if gil[i + 1] - gil[i] > 0:\n",
    "        temp += gil[i + 1] - gil[i]\n",
    "    else:\n",
    "        ormak.append(temp)\n",
    "        temp = 0\n",
    "\n",
    "ormak.append(temp)\n",
    "\n",
    "print(max(ormak))"
   ]
  },
  {
   "cell_type": "code",
   "execution_count": null,
   "metadata": {},
   "outputs": [],
   "source": [
    "# 1773. 폭죽쇼"
   ]
  },
  {
   "cell_type": "code",
   "execution_count": 2,
   "metadata": {},
   "outputs": [
    {
     "name": "stdout",
     "output_type": "stream",
     "text": [
      "2 20\n",
      "4\n",
      "6\n",
      "7\n"
     ]
    }
   ],
   "source": [
    "N, C = map(int, input().split())\n",
    "pang = [0] * (C + 1)\n",
    "\n",
    "for n in range(0, N):\n",
    "    stu = int(input())\n",
    "    for i in range(1, C + 1):\n",
    "        if i % stu == 0:\n",
    "            pang[i] = 1\n",
    "\n",
    "print(pang.count(1))"
   ]
  },
  {
   "cell_type": "code",
   "execution_count": null,
   "metadata": {},
   "outputs": [],
   "source": [
    "# 2823. 유턴 싫어"
   ]
  },
  {
   "cell_type": "code",
   "execution_count": 3,
   "metadata": {},
   "outputs": [
    {
     "name": "stdout",
     "output_type": "stream",
     "text": [
      "4 3 \n",
      "XXX\n",
      "X.X\n",
      "X.X\n",
      "XXX\n",
      "1\n"
     ]
    }
   ],
   "source": [
    "def safe(y, x, R, C):\n",
    "    if 0 <= y < R and 0 <= x < C:\n",
    "        return True\n",
    "    else:\n",
    "        return False\n",
    "\n",
    "\n",
    "R, C = map(int, input().split())\n",
    "maeul = [list(map(str, input())) for _ in range(R)]\n",
    "\n",
    "dy = [0, 0, -1, 1]\n",
    "dx = [-1, 1, 0, 0]  # 좌 우 상 하\n",
    "flag = 0\n",
    "\n",
    "for i in range(0, R):\n",
    "    for j in range(0, C):\n",
    "        if maeul[i][j] == '.':\n",
    "            d_cnt = 0\n",
    "            for d in range(0, 4):\n",
    "                Y = i + dy[d]\n",
    "                X = j + dx[d]\n",
    "                if safe(Y, X, R, C):\n",
    "                    if maeul[Y][X] == '.':\n",
    "                        d_cnt += 1\n",
    "            else:\n",
    "                if d_cnt < 2:\n",
    "                    flag = 1\n",
    "\n",
    "print(flag)"
   ]
  },
  {
   "cell_type": "code",
   "execution_count": null,
   "metadata": {},
   "outputs": [],
   "source": [
    "# 2503. 숫자 야구"
   ]
  },
  {
   "cell_type": "code",
   "execution_count": 1,
   "metadata": {},
   "outputs": [
    {
     "name": "stdout",
     "output_type": "stream",
     "text": [
      "4\n",
      "123 1 1\n",
      "356 1 0\n",
      "327 2 0\n",
      "489 0 1\n",
      "2\n"
     ]
    }
   ],
   "source": [
    "def play(numbers, comp, S, B):\n",
    "    if res[comp]:\n",
    "        s = 0; b = 0\n",
    "        comps = sep(comp)\n",
    "        for i in range(0, 3):\n",
    "            if numbers[i] == comps[i]:\n",
    "                s += 1\n",
    "                if s > S:\n",
    "                    res[comp] = False\n",
    "                    break\n",
    "            elif comps[i] in numbers:\n",
    "                b += 1\n",
    "                if b > B:\n",
    "                    res[comp] = False\n",
    "        else:\n",
    "            if S != s or B != b:\n",
    "                res[comp] = False\n",
    "\n",
    "\n",
    "def sep(num):\n",
    "    temp = num\n",
    "    numbers = [0, 0, 0]\n",
    "    for i in range(2, -1, -1):\n",
    "        numbers[i] = temp % 10\n",
    "        temp = temp // 10\n",
    "    return numbers\n",
    "\n",
    "\n",
    "N = int(input())\n",
    "res = [True] * 988\n",
    "for i in range(123, 988):\n",
    "    imps = sep(i)\n",
    "\n",
    "    if imps[0] == 0 or imps[1] == 0 or imps[2] == 0 or imps[0] == imps[1] or imps[1] == imps[2] or imps[0] == imps[2]:\n",
    "        res[i] = False\n",
    "\n",
    "for n in range(0, N):\n",
    "    num, S, B = list(map(int, input().split()))\n",
    "    numbers = sep(num)\n",
    "\n",
    "    for i in range(123, 988):\n",
    "        play(numbers, i, S, B)\n",
    "\n",
    "result = 0\n",
    "for i in range(123, 988):\n",
    "    if res[i] == True:\n",
    "        result += 1\n",
    "\n",
    "print(result)"
   ]
  },
  {
   "cell_type": "code",
   "execution_count": null,
   "metadata": {},
   "outputs": [],
   "source": [
    "# 2037. 문자메시지"
   ]
  },
  {
   "cell_type": "code",
   "execution_count": 4,
   "metadata": {},
   "outputs": [
    {
     "name": "stdout",
     "output_type": "stream",
     "text": [
      "2 10\n",
      "ABBAS SALAM\n",
      "72\n"
     ]
    }
   ],
   "source": [
    "def find(word, key):\n",
    "    for i in range(0, len(key)):\n",
    "        if word == key[i]:\n",
    "            return i\n",
    "\n",
    "\n",
    "key1 = ['A', 'B', 'C']\n",
    "key2 = ['D', 'E', 'F']\n",
    "key3 = ['G', 'H', 'I']\n",
    "key4 = ['J', 'K', 'L']\n",
    "key5 = ['M', 'N', 'O']\n",
    "key6 = ['P', 'Q', 'R', 'S']\n",
    "key7 = ['T', 'U', 'V']\n",
    "key8 = ['W', 'X', 'Y', 'Z']\n",
    "\n",
    "\n",
    "p, w = map(int, input().split())\n",
    "msg = list(map(str, input()))\n",
    "msg_k = []\n",
    "\n",
    "cnt = 0\n",
    "for m in msg:\n",
    "    if m in key1:\n",
    "        msg_k.append(2)\n",
    "        cnt += find(m, key1) + 1\n",
    "    elif m in key2:\n",
    "        msg_k.append(3)\n",
    "        cnt += find(m, key2) + 1\n",
    "    elif m in key3:\n",
    "        msg_k.append(4)\n",
    "        cnt += find(m, key3) + 1\n",
    "    elif m in key4:\n",
    "        msg_k.append(5)\n",
    "        cnt += find(m, key4) + 1\n",
    "    elif m in key5:\n",
    "        msg_k.append(6)\n",
    "        cnt += find(m, key5) + 1\n",
    "    elif m in key6:\n",
    "        msg_k.append(7)\n",
    "        cnt += find(m, key6) + 1\n",
    "    elif m in key7:\n",
    "        msg_k.append(8)\n",
    "        cnt += find(m, key7) + 1\n",
    "    elif m in key8:\n",
    "        msg_k.append(9)\n",
    "        cnt += find(m, key8) + 1\n",
    "    else:\n",
    "        msg_k.append(0)\n",
    "        cnt += 1\n",
    "wait = 0\n",
    "for i in range(0, len(msg_k) - 1):\n",
    "    if msg_k[i] == msg_k[i + 1] and msg_k[i] != 0:\n",
    "        wait += 1\n",
    "        \n",
    "print(cnt * p + wait * w)"
   ]
  }
 ],
 "metadata": {
  "kernelspec": {
   "display_name": "Python 3",
   "language": "python",
   "name": "python3"
  },
  "language_info": {
   "codemirror_mode": {
    "name": "ipython",
    "version": 3
   },
   "file_extension": ".py",
   "mimetype": "text/x-python",
   "name": "python",
   "nbconvert_exporter": "python",
   "pygments_lexer": "ipython3",
   "version": "3.7.3"
  }
 },
 "nbformat": 4,
 "nbformat_minor": 4
}
