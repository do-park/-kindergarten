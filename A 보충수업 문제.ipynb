{
 "cells": [
  {
   "cell_type": "code",
   "execution_count": null,
   "metadata": {},
   "outputs": [],
   "source": [
    "# 2667. 단지번호 붙이기"
   ]
  },
  {
   "cell_type": "code",
   "execution_count": 2,
   "metadata": {},
   "outputs": [
    {
     "name": "stdout",
     "output_type": "stream",
     "text": [
      "7\n",
      "0110100\n",
      "0110101\n",
      "1110101\n",
      "0000111\n",
      "0100000\n",
      "0111110\n",
      "0111000\n",
      "3\n",
      "7\n",
      "8\n",
      "9\n"
     ]
    }
   ],
   "source": [
    "def safe(x, y):\n",
    "    if (0 <= x < N and 0 <= y < N):\n",
    "        return True\n",
    "    else:\n",
    "        return False\n",
    "\n",
    "\n",
    "def BFS(apart, i, j, N, visited):\n",
    "    if apart[i][j] == 0:\n",
    "        visited.append([i, j])\n",
    "        return [0, visited]\n",
    "\n",
    "    block = []\n",
    "    queue = [[i, j]]\n",
    "\n",
    "    while queue:\n",
    "        [i, j] = queue.pop()\n",
    "        block.append([i, j])\n",
    "        visited.append([i, j])\n",
    "\n",
    "        if apart[i][j] == 1:\n",
    "            dy = [-1, 1, 0, 0]\n",
    "            dx = [0, 0, -1, 1]\n",
    "            for k in range(0, 4):\n",
    "                Y = dy[k] + i\n",
    "                X = dx[k] + j\n",
    "                if safe(X, Y) and apart[Y][X] == 1 and [Y, X] not in block and [Y, X] not in queue:\n",
    "                    queue.append([Y, X])\n",
    "\n",
    "    return [len(block), visited]\n",
    "\n",
    "N = int(input())\n",
    "apart = [list(map(int, input())) for _ in range(N)]\n",
    "visited = []\n",
    "result = []\n",
    "\n",
    "\n",
    "\n",
    "for i in range(0, N):\n",
    "    for j in range(0, N):\n",
    "        if [i, j] not in visited:\n",
    "            [size, visited] = BFS(apart, i, j, N, visited)\n",
    "            if size != 0:\n",
    "                result.append(size)\n",
    "\n",
    "print(len(result))\n",
    "for i in sorted(result):\n",
    "    print(i)"
   ]
  },
  {
   "cell_type": "code",
   "execution_count": null,
   "metadata": {},
   "outputs": [],
   "source": [
    "# 2468. 안전 영역"
   ]
  },
  {
   "cell_type": "code",
   "execution_count": 3,
   "metadata": {},
   "outputs": [
    {
     "name": "stdout",
     "output_type": "stream",
     "text": [
      "5\n",
      "6 8 2 6 2\n",
      "3 2 3 4 6\n",
      "6 7 3 3 2\n",
      "7 2 5 3 6\n",
      "8 9 5 2 7\n",
      "5\n"
     ]
    }
   ],
   "source": [
    "import collections\n",
    "\n",
    "def safe():\n",
    "    cnt = 1\n",
    "    dy = [-1, 1, 0, 0]\n",
    "    dx = [0, 0, -1, 1]\n",
    "    while queue:\n",
    "        ny, nx = queue.popleft()\n",
    "        for d in range(4):\n",
    "            Y = ny + dy[d]\n",
    "            X = nx + dx[d]\n",
    "            if 0 <= Y < N and 0 <= X < N and not visited[Y][X] and maps[Y][X] != -1:\n",
    "                visited[Y][X] = True\n",
    "                queue.append([Y, X])\n",
    "                cnt += 1\n",
    "    return cnt\n",
    "\n",
    "N = int(input())\n",
    "maps = [list(map(int, input().split())) for _ in range(N)]\n",
    "ans = 1\n",
    "for i in range(1, 101):\n",
    "    flag = False\n",
    "    for y in range(N):\n",
    "        for x in range(N):\n",
    "            if maps[y][x] == i:\n",
    "                maps[y][x] = -1\n",
    "                flag = True\n",
    "    if flag:\n",
    "        queue = collections.deque()\n",
    "        visited = [[False] * N for _ in range(N)]\n",
    "        result = []\n",
    "        for x in range(N):\n",
    "            for y in range(N):\n",
    "                if not visited[y][x]:\n",
    "                    visited[y][x] = True\n",
    "                    if maps[y][x] != -1:\n",
    "                        queue.append([y, x])\n",
    "                        result.append(safe())\n",
    "        if len(result) >= ans:\n",
    "            ans = len(result)\n",
    "print(ans)"
   ]
  },
  {
   "cell_type": "code",
   "execution_count": null,
   "metadata": {},
   "outputs": [],
   "source": [
    "# 14889. 스타트와 링크"
   ]
  },
  {
   "cell_type": "code",
   "execution_count": 1,
   "metadata": {},
   "outputs": [
    {
     "name": "stdout",
     "output_type": "stream",
     "text": [
      "4\n",
      "0 1 2 3\n",
      "4 0 5 6\n",
      "7 1 0 2\n",
      "3 4 5 0\n",
      "0\n"
     ]
    }
   ],
   "source": [
    "def f(cnt, a, b):\n",
    "    global result\n",
    "    if cnt == N:\n",
    "        diff = abs(stat(A) - stat(B))\n",
    "        if result > diff:\n",
    "            result = diff\n",
    "    else:\n",
    "        if a < N // 2:\n",
    "            A.append(cnt)\n",
    "            f(cnt + 1, a + 1, b)\n",
    "            A.pop()\n",
    "        if b < N // 2:\n",
    "            B.append(cnt)\n",
    "            f(cnt + 1, a, b + 1)\n",
    "            B.pop()\n",
    "\n",
    "\n",
    "def stat(team):\n",
    "    s = 0\n",
    "    for i in range(N // 2):\n",
    "        for j in range(i + 1, N // 2):\n",
    "            s += arr[team[i]][team[j]]\n",
    "    return s\n",
    "\n",
    "\n",
    "N = int(input())\n",
    "arr = [list(map(int, input().split())) for _ in range(N)]\n",
    "for i in range(N):\n",
    "    for j in range(N):\n",
    "        if i < j:\n",
    "            arr[i][j] += arr[j][i]\n",
    "            arr[j][i] = 0\n",
    "A = []\n",
    "B = []\n",
    "result = 5000\n",
    "f(0, 0, 0)\n",
    "print(result)"
   ]
  },
  {
   "cell_type": "code",
   "execution_count": null,
   "metadata": {},
   "outputs": [],
   "source": [
    "# 17471. 게리맨더링"
   ]
  },
  {
   "cell_type": "code",
   "execution_count": null,
   "metadata": {},
   "outputs": [],
   "source": []
  },
  {
   "cell_type": "code",
   "execution_count": null,
   "metadata": {},
   "outputs": [],
   "source": [
    "# 1697. 숨바꼭질"
   ]
  },
  {
   "cell_type": "code",
   "execution_count": 4,
   "metadata": {},
   "outputs": [
    {
     "name": "stdout",
     "output_type": "stream",
     "text": [
      "5 17\n",
      "4\n"
     ]
    }
   ],
   "source": [
    "import collections\n",
    "\n",
    "\n",
    "def seek():\n",
    "    while queue:\n",
    "        now = queue.popleft()\n",
    "        vn = visited[now]\n",
    "        if now == K:\n",
    "            return vn\n",
    "        next(now - 1, vn)\n",
    "        next(now + 1, vn)\n",
    "        next(now * 2, vn)\n",
    "\n",
    "\n",
    "def next(next, vn):\n",
    "    if 0 <= next < 100001 and (visited[next] == 0 or vn + 1 < visited[next]):\n",
    "        visited[next] = vn + 1\n",
    "        queue.append(next)\n",
    "\n",
    "\n",
    "N, K = map(int, input().split())\n",
    "visited = [0] * 100001\n",
    "queue = collections.deque()\n",
    "queue.append(N)\n",
    "print(seek())"
   ]
  },
  {
   "cell_type": "code",
   "execution_count": null,
   "metadata": {},
   "outputs": [],
   "source": [
    "# 12851. 숨바꼭질 2"
   ]
  },
  {
   "cell_type": "code",
   "execution_count": 5,
   "metadata": {},
   "outputs": [
    {
     "name": "stdout",
     "output_type": "stream",
     "text": [
      "5 17\n",
      "4\n",
      "2\n"
     ]
    }
   ],
   "source": [
    "from collections import deque\n",
    "\n",
    "N, K = map(int, input().split())\n",
    "arr = [0] * 100001\n",
    "vis = [0] * 100001\n",
    "Q = deque()\n",
    "Q.append(N)\n",
    "arr[N] = 1\n",
    "vis[N] = 1\n",
    "while Q:\n",
    "    x = Q.popleft()\n",
    "    for i in [x + 1, x - 1, x * 2]:\n",
    "        if 0 <= i < 100001:\n",
    "            if not vis[i] or arr[i] > arr[x] + 1:\n",
    "                vis[i] = 1\n",
    "                arr[i] = arr[x] + 1\n",
    "                Q.append(i)\n",
    "            elif arr[i] == arr[x] + 1:\n",
    "                vis[i] += 1\n",
    "                Q.append(i)\n",
    "\n",
    "print(arr[K] - 1)\n",
    "print(vis[K])"
   ]
  }
 ],
 "metadata": {
  "kernelspec": {
   "display_name": "Python 3",
   "language": "python",
   "name": "python3"
  },
  "language_info": {
   "codemirror_mode": {
    "name": "ipython",
    "version": 3
   },
   "file_extension": ".py",
   "mimetype": "text/x-python",
   "name": "python",
   "nbconvert_exporter": "python",
   "pygments_lexer": "ipython3",
   "version": "3.7.4"
  }
 },
 "nbformat": 4,
 "nbformat_minor": 2
}
